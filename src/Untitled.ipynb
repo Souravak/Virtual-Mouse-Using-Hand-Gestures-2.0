{
 "cells": [
  {
   "cell_type": "code",
   "execution_count": null,
   "id": "4f0d1e5b",
   "metadata": {},
   "outputs": [],
   "source": [
    "!pip list"
   ]
  },
  {
   "cell_type": "code",
   "execution_count": null,
   "id": "87ca346e",
   "metadata": {},
   "outputs": [],
   "source": []
  }
 ],
 "metadata": {
  "kernelspec": {
   "display_name": "tfodj",
   "language": "python",
   "name": "tfodj"
  }
 },
 "nbformat": 4,
 "nbformat_minor": 5
}
